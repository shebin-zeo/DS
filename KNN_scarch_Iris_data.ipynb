{
 "cells": [
  {
   "cell_type": "code",
   "execution_count": 10,
   "id": "e2c0408f",
   "metadata": {},
   "outputs": [
    {
     "data": {
      "text/html": [
       "<div>\n",
       "<style scoped>\n",
       "    .dataframe tbody tr th:only-of-type {\n",
       "        vertical-align: middle;\n",
       "    }\n",
       "\n",
       "    .dataframe tbody tr th {\n",
       "        vertical-align: top;\n",
       "    }\n",
       "\n",
       "    .dataframe thead th {\n",
       "        text-align: right;\n",
       "    }\n",
       "</style>\n",
       "<table border=\"1\" class=\"dataframe\">\n",
       "  <thead>\n",
       "    <tr style=\"text-align: right;\">\n",
       "      <th></th>\n",
       "      <th>sepal.length</th>\n",
       "      <th>sepal.width</th>\n",
       "      <th>petal.length</th>\n",
       "      <th>petal.width</th>\n",
       "      <th>variety</th>\n",
       "    </tr>\n",
       "  </thead>\n",
       "  <tbody>\n",
       "    <tr>\n",
       "      <th>0</th>\n",
       "      <td>5.1</td>\n",
       "      <td>3.5</td>\n",
       "      <td>1.4</td>\n",
       "      <td>0.2</td>\n",
       "      <td>Setosa</td>\n",
       "    </tr>\n",
       "    <tr>\n",
       "      <th>1</th>\n",
       "      <td>4.9</td>\n",
       "      <td>3.0</td>\n",
       "      <td>1.4</td>\n",
       "      <td>0.2</td>\n",
       "      <td>Setosa</td>\n",
       "    </tr>\n",
       "    <tr>\n",
       "      <th>2</th>\n",
       "      <td>4.7</td>\n",
       "      <td>3.2</td>\n",
       "      <td>1.3</td>\n",
       "      <td>0.2</td>\n",
       "      <td>Setosa</td>\n",
       "    </tr>\n",
       "    <tr>\n",
       "      <th>3</th>\n",
       "      <td>4.6</td>\n",
       "      <td>3.1</td>\n",
       "      <td>1.5</td>\n",
       "      <td>0.2</td>\n",
       "      <td>Setosa</td>\n",
       "    </tr>\n",
       "    <tr>\n",
       "      <th>4</th>\n",
       "      <td>5.0</td>\n",
       "      <td>3.6</td>\n",
       "      <td>1.4</td>\n",
       "      <td>0.2</td>\n",
       "      <td>Setosa</td>\n",
       "    </tr>\n",
       "  </tbody>\n",
       "</table>\n",
       "</div>"
      ],
      "text/plain": [
       "   sepal.length  sepal.width  petal.length  petal.width variety\n",
       "0           5.1          3.5           1.4          0.2  Setosa\n",
       "1           4.9          3.0           1.4          0.2  Setosa\n",
       "2           4.7          3.2           1.3          0.2  Setosa\n",
       "3           4.6          3.1           1.5          0.2  Setosa\n",
       "4           5.0          3.6           1.4          0.2  Setosa"
      ]
     },
     "execution_count": 10,
     "metadata": {},
     "output_type": "execute_result"
    }
   ],
   "source": [
    "import pandas as pd\n",
    "file=r'C:\\Users\\Administrator\\Downloads\\iris.csv'\n",
    "df=pd.read_csv(file)\n",
    "df.head()"
   ]
  },
  {
   "cell_type": "code",
   "execution_count": 28,
   "id": "384046e5",
   "metadata": {},
   "outputs": [
    {
     "name": "stdout",
     "output_type": "stream",
     "text": [
      "Training features shape: (105, 4)\n",
      "Testing features shape: (45, 4)\n"
     ]
    }
   ],
   "source": [
    "from sklearn.model_selection import train_test_split\n",
    "\n",
    "# Extract features and labels\n",
    "X = df.iloc[:, :-1].values  # Features (sepal length, sepal width, petal length, petal width)\n",
    "y = df.iloc[:, -1].values   # Labels (species)\n",
    "\n",
    "# Split the dataset into training and testing sets\n",
    "X_train, X_test, y_train, y_test = train_test_split(X, y, test_size=0.3, random_state=42)\n",
    "\n",
    "print(\"Training features shape:\", X_train.shape)\n",
    "print(\"Testing features shape:\", X_test.shape)\n"
   ]
  },
  {
   "cell_type": "code",
   "execution_count": 29,
   "id": "aa31f564",
   "metadata": {},
   "outputs": [],
   "source": [
    "import numpy as np\n",
    "from collections import Counter\n",
    "\n",
    "class KNNClassifier:\n",
    "    def __init__(self, distance_metric='euclidean'):\n",
    "        self.distance_metric = distance_metric\n",
    "\n",
    "    def calculate_distance(self, training_data_point, testing_data_point):\n",
    "        if self.distance_metric == 'euclidean':\n",
    "            dist = np.sqrt(np.sum((training_data_point - testing_data_point) ** 2))\n",
    "        elif self.distance_metric == 'manhattan':\n",
    "            dist = np.sum(np.abs(training_data_point - testing_data_point))\n",
    "        else:\n",
    "            raise ValueError(\"Unsupported distance metric. Choose 'euclidean' or 'manhattan'.\")\n",
    "        return dist\n",
    "\n",
    "    def nearest_neighbors(self, x_train, test_data, k):\n",
    "        distances = []\n",
    "        for training_data in x_train:\n",
    "            dist = self.calculate_distance(training_data[:-1], test_data)\n",
    "            distances.append((training_data, dist))\n",
    "        \n",
    "        distances.sort(key=lambda x: x[1])\n",
    "        neighbors = [distances[i][0] for i in range(k)]\n",
    "        return neighbors\n",
    "\n",
    "    def predict(self, x_train, test_data, k):\n",
    "        neighbors = self.nearest_neighbors(x_train, test_data, k)\n",
    "        labels = [neighbor[-1] for neighbor in neighbors]\n",
    "        most_common = Counter(labels).most_common(1)\n",
    "        return most_common[0][0]\n",
    "\n",
    "    def predict_batch(self, x_train, x_test, k):\n",
    "        predictions = [self.predict(x_train, test_data, k) for test_data in x_test]\n",
    "        return predictions\n"
   ]
  },
  {
   "cell_type": "code",
   "execution_count": 30,
   "id": "6a7dcb22",
   "metadata": {},
   "outputs": [
    {
     "name": "stdout",
     "output_type": "stream",
     "text": [
      "Predicted labels:\n",
      "['Versicolor', 'Setosa', 'Virginica', 'Versicolor', 'Versicolor', 'Setosa', 'Versicolor', 'Virginica', 'Versicolor', 'Versicolor', 'Virginica', 'Setosa', 'Setosa', 'Setosa', 'Setosa', 'Versicolor', 'Virginica', 'Versicolor', 'Versicolor', 'Virginica', 'Setosa', 'Virginica', 'Setosa', 'Virginica', 'Virginica', 'Virginica', 'Virginica', 'Virginica', 'Setosa', 'Setosa', 'Setosa', 'Setosa', 'Versicolor', 'Setosa', 'Setosa', 'Virginica', 'Versicolor', 'Setosa', 'Setosa', 'Setosa', 'Virginica', 'Versicolor', 'Versicolor', 'Setosa', 'Setosa']\n",
      "Actual labels:\n",
      "['Versicolor' 'Setosa' 'Virginica' 'Versicolor' 'Versicolor' 'Setosa'\n",
      " 'Versicolor' 'Virginica' 'Versicolor' 'Versicolor' 'Virginica' 'Setosa'\n",
      " 'Setosa' 'Setosa' 'Setosa' 'Versicolor' 'Virginica' 'Versicolor'\n",
      " 'Versicolor' 'Virginica' 'Setosa' 'Virginica' 'Setosa' 'Virginica'\n",
      " 'Virginica' 'Virginica' 'Virginica' 'Virginica' 'Setosa' 'Setosa'\n",
      " 'Setosa' 'Setosa' 'Versicolor' 'Setosa' 'Setosa' 'Virginica' 'Versicolor'\n",
      " 'Setosa' 'Setosa' 'Setosa' 'Virginica' 'Versicolor' 'Versicolor' 'Setosa'\n",
      " 'Setosa']\n"
     ]
    }
   ],
   "source": [
    "# Prepare training data with features and labels\n",
    "X_train_with_labels = np.hstack((X_train, y_train.reshape(-1, 1)))\n",
    "\n",
    "# Instantiate the KNN classifier\n",
    "knn = KNNClassifier(distance_metric='euclidean')\n",
    "\n",
    "# Predict labels for the test set\n",
    "k = 3  # Number of neighbors to consider\n",
    "predicted_labels = knn.predict_batch(X_train_with_labels, X_test, k)\n",
    "\n",
    "# Compare with actual labels\n",
    "print(\"Predicted labels:\")\n",
    "print(predicted_labels)\n",
    "print(\"Actual labels:\")\n",
    "print(y_test)\n"
   ]
  },
  {
   "cell_type": "code",
   "execution_count": null,
   "id": "d33b7dbd",
   "metadata": {},
   "outputs": [],
   "source": [
    "# Define a new sample with features (sepal length, sepal width, petal length, petal width)\n",
    "sp_length=float(input('Enter the sepal length :'))\n",
    "sp_width=float(input('Enter the sepal width :'))\n",
    "pet_length=float(input('Enter the petal length :'))\n",
    "pet_width=float(input('Enter the petal width :'))\n",
    "new_sample = [sp_length,sp_width,pet_length,pet_width]  # Example values\n",
    "\n",
    "# Predict the class for the new sample\n",
    "predicted_class = knn.predict(X_train_with_labels, new_sample, k)\n",
    "print(\"Predicted class for the new sample:\", predicted_class)\n"
   ]
  },
  {
   "cell_type": "code",
   "execution_count": null,
   "id": "983904cc",
   "metadata": {},
   "outputs": [],
   "source": []
  }
 ],
 "metadata": {
  "kernelspec": {
   "display_name": "Python 3",
   "language": "python",
   "name": "python3"
  },
  "language_info": {
   "codemirror_mode": {
    "name": "ipython",
    "version": 3
   },
   "file_extension": ".py",
   "mimetype": "text/x-python",
   "name": "python",
   "nbconvert_exporter": "python",
   "pygments_lexer": "ipython3",
   "version": "3.8.8"
  }
 },
 "nbformat": 4,
 "nbformat_minor": 5
}
